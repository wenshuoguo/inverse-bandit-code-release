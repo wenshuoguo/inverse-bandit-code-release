{
 "cells": [
  {
   "cell_type": "code",
   "execution_count": 8,
   "metadata": {
    "tags": []
   },
   "outputs": [
    {
     "name": "stdout",
     "output_type": "stream",
     "text": [
      "The autoreload extension is already loaded. To reload it, use:\n",
      "  %reload_ext autoreload\n"
     ]
    }
   ],
   "source": [
    "## Code is modified from source released by \n",
    "## https://github.com/chueh-ermon/battery-fast-charging-optimization\n",
    "\n",
    "import importlib\n",
    "\n",
    "from bax.env import bandit_ucb_public as bucb\n",
    "from bax.utils import trainer_public as trainer\n",
    "from bax.utils import plotter_public as plotter \n",
    "\n",
    "from collections import defaultdict\n",
    "\n",
    "import glob\n",
    "import matplotlib\n",
    "matplotlib.use('Agg')\n",
    "\n",
    "import matplotlib.pyplot as plt\n",
    "from matplotlib import rcParams\n",
    "\n",
    "import matplotlib.cm as cm\n",
    "from mpl_toolkits.mplot3d import Axes3D\n",
    "from mpl_toolkits.axes_grid1 import make_axes_locatable\n",
    "import seaborn as sns\n",
    "import matplotlib.patheffects as pe\n",
    "\n",
    "import numpy as np\n",
    "import pickle\n",
    "\n",
    "%load_ext autoreload\n",
    "%autoreload 2"
   ]
  },
  {
   "cell_type": "code",
   "execution_count": null,
   "metadata": {},
   "outputs": [],
   "source": [
    "import ray\n",
    "ray.init(log_to_driver=False, _temp_dir='/tmp/ray/')"
   ]
  },
  {
   "cell_type": "code",
   "execution_count": null,
   "metadata": {},
   "outputs": [],
   "source": [
    "def gen_ci_fn(alpha):\n",
    "    \"\"\"generate the function used for confidence interval.\"\"\"\n",
    "    def ci_fn(T, times_pulled):\n",
    "        print('running with ')\n",
    "        if times_pulled == 0:\n",
    "            return np.inf\n",
    "        num = 2*(T**alpha - 1)\n",
    "        den = alpha * times_pulled\n",
    "        \n",
    "        if alpha == 0:\n",
    "            ci = np.sqrt(np.log(T)/times_pulled)\n",
    "        else:\n",
    "            ci = np.sqrt(num/den)\n",
    "        return ci\n",
    "    return ci_fn"
   ]
  },
  {
   "cell_type": "code",
   "execution_count": 12,
   "metadata": {},
   "outputs": [],
   "source": [
    "PRIOR_HI = np.load('../bax/env/battery_hi.npy')\n",
    "max_mean = np.max(PRIOR_HI[:, 0])"
   ]
  },
  {
   "cell_type": "code",
   "execution_count": null,
   "metadata": {},
   "outputs": [],
   "source": [
    "## Let's use prior for the battery dataset \"hi\"\n",
    "def get_prior(prior, num_arms, seed=10, max_mean=1200):\n",
    "    from numpy.random import default_rng\n",
    "    rng = default_rng(seed)\n",
    "    \n",
    "    total_arms = prior.shape[0]\n",
    "    means = prior[:, 0]\n",
    "    SIGMA = np.max(prior[:, 1])\n",
    "    MU = means / max_mean\n",
    "\n",
    "    norm_SIGMA = SIGMA / max_mean\n",
    "    SIGMA2 = norm_SIGMA**2\n",
    "    \n",
    "    \n",
    "    if num_arms == 'all':\n",
    "        armidx = np.arange(total_arms)\n",
    "        mu_argsort = np.argsort(MU)\n",
    "        PRIOR = np.array([[MU[idx], SIGMA2] for idx in mu_argsort])\n",
    "        return PRIOR, mu_argsort\n",
    "    \n",
    "    armidx = rng.choice(np.arange(total_arms), num_arms, replace=False)\n",
    "    MUs = MU[armidx]\n",
    "    mu_argsort = np.argsort(MUs)\n",
    "    PRIOR = np.array([[MUs[idx], SIGMA2] for idx in mu_argsort])\n",
    "    return PRIOR, armidx"
   ]
  },
  {
   "cell_type": "code",
   "execution_count": null,
   "metadata": {},
   "outputs": [],
   "source": [
    "prior, arms = get_prior(PRIOR_HI, 'all', max_mean=max_mean)"
   ]
  },
  {
   "cell_type": "code",
   "execution_count": null,
   "metadata": {},
   "outputs": [],
   "source": [
    "num_horizon = 3  # number of distinct T\n",
    "\n",
    "Ts = [25000, 45000, 70000]\n",
    "\n",
    "num_runs= 100\n",
    "results_all = {}\n",
    "\n",
    "ALPHAS=[0.001]\n",
    "for alpha in ALPHAS:\n",
    "    print(\"COLLECTING DATASET FOR ALPHA={}\".format(alpha))\n",
    "    results_dict = trainer.train_helper_for_horizon(prior=prior, \n",
    "                                                    Ts=Ts, algo='ucb', \n",
    "                                                    ci_fn=gen_ci_fn,\n",
    "                                                    alpha=alpha,\n",
    "                                                    num_runs=num_runs)\n",
    "    results_all[alpha] = results_dict"
   ]
  },
  {
   "cell_type": "code",
   "execution_count": null,
   "metadata": {},
   "outputs": [],
   "source": [
    "## get the true gaps for given prior\n",
    "true_gap = plotter.get_true_gaps(prior)\n",
    "\n",
    "## get estimated gaps per arm \n",
    "gaps_all = {k: v['gaps'] for k, v in results_all.items()}\n",
    "\n",
    "## compute the error between estimate and true gaps\n",
    "errors_all = get_mse(gaps_all, true_gap, norm=None)\n",
    "\n",
    "## mean error, confidence-interval across multiple runs\n",
    "emean, eci = get_mean_ci(errors_all, arm=None)"
   ]
  },
  {
   "cell_type": "code",
   "execution_count": 13,
   "metadata": {},
   "outputs": [],
   "source": [
    "## param-space maps arms to current values\n",
    "param_file = \"../bax/env/paramspace.pkl\"\n",
    "with open(param_file, 'rb') as infile:\n",
    "    param_space, ub, lb, mean = pickle.load(infile)"
   ]
  },
  {
   "cell_type": "code",
   "execution_count": null,
   "metadata": {},
   "outputs": [],
   "source": [
    "## we ignore the arm with largest reward\n",
    "dataset_error = emean[0.001][:, :223]\n",
    "min_lifetime = np.min(dataset_error)\n",
    "max_lifetime = np.max(dataset_error)"
   ]
  },
  {
   "cell_type": "code",
   "execution_count": null,
   "metadata": {},
   "outputs": [],
   "source": [
    "def text(x1,y1,x2,y2,k):\n",
    "    ax.annotate(\"T= \"+str(k), xy=(x2, y1), xycoords='figure fraction',\n",
    "                xytext=(x1, y1), textcoords='figure fraction',\n",
    "                size=20, va=\"center\", ha=\"center\",\n",
    "                bbox=dict(boxstyle=\"round\", fc=\"w\"))\n",
    "\n",
    "    \n",
    "fig, axes = plt.subplots(3,3,figsize=(16,16))\n",
    "axes[0,0].set_axis_off()\n",
    "axes[0,1].set_axis_off()\n",
    "axes[0,2].set_axis_off()\n",
    "axes[1,0].set_axis_off()\n",
    "axes[1,1].set_axis_off()\n",
    "axes[1,2].set_axis_off()\n",
    "axes[2,0].set_axis_off()\n",
    "axes[2,1].set_axis_off()\n",
    "axes[2,2].set_axis_off()\n",
    "\n",
    "\n",
    "fig.set_size_inches(w=15,h=11)\n",
    "\n",
    "FS = 16\n",
    "LW = 3\n",
    "\n",
    "rcParams['pdf.fonttype'] = 42\n",
    "rcParams['ps.fonttype'] = 42\n",
    "rcParams['font.size'] = FS\n",
    "rcParams['axes.labelsize'] = FS\n",
    "rcParams['xtick.labelsize'] = FS\n",
    "rcParams['ytick.labelsize'] = FS\n",
    "rcParams['font.sans-serif'] = ['Arial']\n",
    "\n",
    "\n",
    "##############################################################################\n",
    "# PLOTTING PARAMETERS\n",
    "batches_to_plot = [0,1,2]\n",
    "\n",
    "colormap = 'plasma_r'\n",
    "el, az = 30, 240\n",
    "point_size = 50\n",
    "##############################################################################\n",
    "        \n",
    "## MAKE SUBPLOTS\n",
    "for k, batch_idx in enumerate(batches_to_plot):\n",
    "    with sns.axes_style('white'):\n",
    "        if k==0:\n",
    "            ax = fig.add_axes([0.05,0.48,0.24,0.24],projection='3d')\n",
    "        else:\n",
    "            ax = fig.add_axes([0.05+0.165*k,0.48,0.24,0.24],projection='3d')\n",
    "    ax.set_aspect('equal')\n",
    "    \n",
    "    ## PLOT POLICIES\n",
    "    CC1 = param_space[arms[:-1],0]\n",
    "    CC2 = param_space[arms[:-1],1]\n",
    "    CC3 = param_space[arms[:-1],2]\n",
    "    lifetime = dataset_error[batch_idx][:]\n",
    "    with plt.style.context(('classic')):\n",
    "        plt.set_cmap(colormap)\n",
    "        ax.scatter(CC1,CC2,CC3, s=point_size, c=lifetime.ravel(),\n",
    "               vmin=min_lifetime, vmax=max_lifetime)\n",
    "    \n",
    "    ax.set_xlim([3, 8]), ax.set_ylim([3, 8]), ax.set_zlim([3, 8])\n",
    "   \n",
    "    if k == 0:\n",
    "        ax.set_xlabel('CC1',fontsize=FS)\n",
    "        ax.set_ylabel('CC2',fontsize=FS)\n",
    "        ax.set_zlabel('CC3',fontsize=FS,rotation=90)\n",
    "    #ax.set_title('Before batch '+str(batch_idx))\n",
    "    \n",
    "    \n",
    "    ax.view_init(elev=el, azim=az)\n",
    "\n",
    "# ADD COLORBAR\n",
    "cbar_ax = fig.add_axes([0.65, 0.45, 0.02, 0.3]) # [left, bottom, width, height]\n",
    "norm = matplotlib.colors.Normalize(min_lifetime, max_lifetime)\n",
    "print(norm, min_lifetime, max_lifetime)\n",
    "m = plt.cm.ScalarMappable(norm=norm, cmap=colormap)\n",
    "m.set_array([])\n",
    "\n",
    "cbar = plt.colorbar(m, cax=cbar_ax)\n",
    "cbar.ax.tick_params(labelsize=FS,length=0)\n",
    "cbar.ax.set_title('MSE  $\\mathbb{E} | \\hat{\\mu}_i - \\mu_i|^2$',fontsize=FS)\n",
    "\n",
    "\n",
    "margin = 0.18\n",
    "for k in np.arange(3):\n",
    "    text(0.15+0.18*k,0.78,0.22+0.18*k,0.78,Ts[k])\n",
    "\n",
    "\n",
    "plt.tight_layout()\n",
    "plt.savefig('battery_allarms_errorlandscape.png',bbox_inches='tight')\n",
    "plt.savefig('battery_allarms_errorlandscape.pdf',bbox_inches='tight',format='pdf')"
   ]
  }
 ],
 "metadata": {
  "kernelspec": {
   "display_name": "Python 3",
   "language": "python",
   "name": "python3"
  },
  "language_info": {
   "codemirror_mode": {
    "name": "ipython",
    "version": 3
   },
   "file_extension": ".py",
   "mimetype": "text/x-python",
   "name": "python",
   "nbconvert_exporter": "python",
   "pygments_lexer": "ipython3",
   "version": "3.7.6"
  }
 },
 "nbformat": 4,
 "nbformat_minor": 5
}
